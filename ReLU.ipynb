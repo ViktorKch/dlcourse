{
  "nbformat": 4,
  "nbformat_minor": 0,
  "metadata": {
    "colab": {
      "name": "ReLU.ipynb",
      "version": "0.3.2",
      "provenance": [],
      "include_colab_link": true
    },
    "kernelspec": {
      "name": "python3",
      "display_name": "Python 3"
    }
  },
  "cells": [
    {
      "cell_type": "markdown",
      "metadata": {
        "id": "view-in-github",
        "colab_type": "text"
      },
      "source": [
        "<a href=\"https://colab.research.google.com/github/ViktorKch/dlcourse/blob/master/ReLU.ipynb\" target=\"_parent\"><img src=\"https://colab.research.google.com/assets/colab-badge.svg\" alt=\"Open In Colab\"/></a>"
      ]
    },
    {
      "cell_type": "markdown",
      "metadata": {
        "id": "g_aOUM2VKhIX",
        "colab_type": "text"
      },
      "source": [
        "Функция активации ReLU (Rectified Linear Units)"
      ]
    },
    {
      "cell_type": "code",
      "metadata": {
        "id": "iHNwTQRIKyE8",
        "colab_type": "code",
        "colab": {}
      },
      "source": [
        "def naive_relu(x):\n",
        "  assert len(x.shape) == 2 #проверка на то, что x - двумерный тензор\n",
        "  \n",
        "  x = x.copy() #исключить затирание исходного тензора\n",
        "  for i in range(x.shape[0]):\n",
        "    for j in range(x.shape[1]):\n",
        "      x[i, j] = max(x[i, j], 0)\n",
        "      \n",
        "  return x\n",
        "    "
      ],
      "execution_count": 0,
      "outputs": []
    },
    {
      "cell_type": "markdown",
      "metadata": {
        "id": "Zfl802QzL1Q8",
        "colab_type": "text"
      },
      "source": [
        "Сложение двух тензоров"
      ]
    },
    {
      "cell_type": "code",
      "metadata": {
        "id": "9neRUOesL46k",
        "colab_type": "code",
        "colab": {}
      },
      "source": [
        "def naive_add(x, y):\n",
        "  assert len(x.shape) == 2\n",
        "  assert x.shape == y.shape\n",
        "  x = x.copy()\n",
        "  for i in range(x.shape[0]):\n",
        "    for j in range(x.shape[1]):\n",
        "      x[i, j] += y[i, j]\n",
        "      \n",
        "  return x"
      ],
      "execution_count": 0,
      "outputs": []
    }
  ]
}